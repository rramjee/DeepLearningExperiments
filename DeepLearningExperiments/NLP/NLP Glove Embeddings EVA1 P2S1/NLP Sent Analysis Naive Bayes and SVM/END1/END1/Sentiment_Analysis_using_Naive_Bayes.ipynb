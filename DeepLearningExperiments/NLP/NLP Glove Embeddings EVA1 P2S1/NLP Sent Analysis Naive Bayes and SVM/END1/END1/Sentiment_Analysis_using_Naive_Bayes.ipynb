{
  "nbformat": 4,
  "nbformat_minor": 0,
  "metadata": {
    "colab": {
      "name": "Sentiment Analysis using Naive Bayes.ipynb",
      "provenance": [],
      "collapsed_sections": []
    },
    "kernelspec": {
      "name": "python3",
      "display_name": "Python 3"
    },
    "accelerator": "GPU"
  },
  "cells": [
    {
      "cell_type": "markdown",
      "metadata": {
        "id": "I4tgyjYGU5mh"
      },
      "source": [
        "# Sentiment Analysis using Naive Bayes\n",
        "\n",
        "In this assignment, we will attempt to label tweets with sentiments (positive, neutral and negative) using Naive Bayes classifier. Naive Bayes is a very basic approach to this problem, but gives surprisingly good accuracy sometimes.\n",
        "\n",
        "**Fill in the Blanks**"
      ]
    },
    {
      "cell_type": "markdown",
      "metadata": {
        "id": "Af8UfnQOVXGZ"
      },
      "source": [
        "## Importing required libraries"
      ]
    },
    {
      "cell_type": "code",
      "metadata": {
        "id": "91xo5PKAUoux"
      },
      "source": [
        "import pandas as pd\n",
        "import re\n",
        "from sklearn.naive_bayes import MultinomialNB\n",
        "from sklearn.model_selection import train_test_split\n",
        "from sklearn.metrics import classification_report\n",
        "from sklearn.model_selection import GridSearchCV\n",
        "from sklearn.pipeline import Pipeline\n",
        "from sklearn.feature_extraction.text import CountVectorizer, TfidfTransformer"
      ],
      "execution_count": 1,
      "outputs": []
    },
    {
      "cell_type": "markdown",
      "metadata": {
        "id": "uEeXoKyvVqdQ"
      },
      "source": [
        "## Reading dataset"
      ]
    },
    {
      "cell_type": "code",
      "metadata": {
        "id": "menn3WewVpe9",
        "outputId": "d8428d59-a6e2-4b24-fe44-1c73185479a0",
        "colab": {
          "base_uri": "https://localhost:8080/",
          "height": 197
        }
      },
      "source": [
        "data=pd.read_csv('tweets.csv')\n",
        "data.drop(data.columns[0],axis=1,inplace=True)\n",
        "data.head()"
      ],
      "execution_count": 2,
      "outputs": [
        {
          "output_type": "execute_result",
          "data": {
            "text/html": [
              "<div>\n",
              "<style scoped>\n",
              "    .dataframe tbody tr th:only-of-type {\n",
              "        vertical-align: middle;\n",
              "    }\n",
              "\n",
              "    .dataframe tbody tr th {\n",
              "        vertical-align: top;\n",
              "    }\n",
              "\n",
              "    .dataframe thead th {\n",
              "        text-align: right;\n",
              "    }\n",
              "</style>\n",
              "<table border=\"1\" class=\"dataframe\">\n",
              "  <thead>\n",
              "    <tr style=\"text-align: right;\">\n",
              "      <th></th>\n",
              "      <th>tweets</th>\n",
              "      <th>labels</th>\n",
              "    </tr>\n",
              "  </thead>\n",
              "  <tbody>\n",
              "    <tr>\n",
              "      <th>0</th>\n",
              "      <td>Obama has called the GOP budget social Darwini...</td>\n",
              "      <td>1</td>\n",
              "    </tr>\n",
              "    <tr>\n",
              "      <th>1</th>\n",
              "      <td>In his teen years, Obama has been known to use...</td>\n",
              "      <td>0</td>\n",
              "    </tr>\n",
              "    <tr>\n",
              "      <th>2</th>\n",
              "      <td>IPA Congratulates President Barack Obama for L...</td>\n",
              "      <td>0</td>\n",
              "    </tr>\n",
              "    <tr>\n",
              "      <th>3</th>\n",
              "      <td>RT @Professor_Why: #WhatsRomneyHiding - his co...</td>\n",
              "      <td>0</td>\n",
              "    </tr>\n",
              "    <tr>\n",
              "      <th>4</th>\n",
              "      <td>RT @wardollarshome: Obama has approved more ta...</td>\n",
              "      <td>1</td>\n",
              "    </tr>\n",
              "  </tbody>\n",
              "</table>\n",
              "</div>"
            ],
            "text/plain": [
              "                                              tweets  labels\n",
              "0  Obama has called the GOP budget social Darwini...       1\n",
              "1  In his teen years, Obama has been known to use...       0\n",
              "2  IPA Congratulates President Barack Obama for L...       0\n",
              "3  RT @Professor_Why: #WhatsRomneyHiding - his co...       0\n",
              "4  RT @wardollarshome: Obama has approved more ta...       1"
            ]
          },
          "metadata": {
            "tags": []
          },
          "execution_count": 2
        }
      ]
    },
    {
      "cell_type": "markdown",
      "metadata": {
        "id": "1bUNORaDVwrN"
      },
      "source": [
        "## Text processing for the tweets"
      ]
    },
    {
      "cell_type": "code",
      "metadata": {
        "id": "gCtQLFwcHauQ",
        "outputId": "16013e0d-0131-4564-e0b4-866e62c10b86",
        "colab": {
          "base_uri": "https://localhost:8080/",
          "height": 105
        }
      },
      "source": [
        "import nltk \n",
        "nltk.download('stopwords')\n",
        "nltk.download('punkt')"
      ],
      "execution_count": 3,
      "outputs": [
        {
          "output_type": "stream",
          "text": [
            "[nltk_data] Downloading package stopwords to /root/nltk_data...\n",
            "[nltk_data]   Unzipping corpora/stopwords.zip.\n",
            "[nltk_data] Downloading package punkt to /root/nltk_data...\n",
            "[nltk_data]   Unzipping tokenizers/punkt.zip.\n"
          ],
          "name": "stdout"
        },
        {
          "output_type": "execute_result",
          "data": {
            "text/plain": [
              "True"
            ]
          },
          "metadata": {
            "tags": []
          },
          "execution_count": 3
        }
      ]
    },
    {
      "cell_type": "code",
      "metadata": {
        "id": "qbVn9swJVuLA"
      },
      "source": [
        "from nltk.tokenize import word_tokenize\n",
        "from string import punctuation \n",
        "from nltk.corpus import stopwords \n",
        "\n",
        "stopwords = set(stopwords.words('english') + list(punctuation) + ['AT_USER','URL'])\n",
        "    \n",
        "def processTweet(tweet):\n",
        "    # tweet is the text we will pass for preprocessing \n",
        "    # convert passed tweet to lower case \n",
        "    tweet = tweet.lower()\n",
        "    tweet = re.sub('((www\\.[^\\s]+)|(https?://[^\\s]+))', 'URL', tweet) # remove URLs\n",
        "    tweet = re.sub('@[^\\s]+', 'AT_USER', tweet) # remove usernames\n",
        "    tweet = re.sub(r'#([^\\s]+)', r'\\1', tweet) # remove the # in #hashtag\n",
        "    \n",
        "    # use work_tokenize imported above to tokenize the tweet\n",
        "    tweet = word_tokenize(tweet)\n",
        "    return [word for word in tweet if word not in stopwords]"
      ],
      "execution_count": 4,
      "outputs": []
    },
    {
      "cell_type": "code",
      "metadata": {
        "id": "LccnyxIw9J2T",
        "outputId": "058f9dc8-1748-47eb-fca2-ab7cd85729f3",
        "colab": {
          "base_uri": "https://localhost:8080/",
          "height": 230
        }
      },
      "source": [
        "data['tweets']"
      ],
      "execution_count": 5,
      "outputs": [
        {
          "output_type": "execute_result",
          "data": {
            "text/plain": [
              "0       Obama has called the GOP budget social Darwini...\n",
              "1       In his teen years, Obama has been known to use...\n",
              "2       IPA Congratulates President Barack Obama for L...\n",
              "3       RT @Professor_Why: #WhatsRomneyHiding - his co...\n",
              "4       RT @wardollarshome: Obama has approved more ta...\n",
              "                              ...                        \n",
              "1375    @liberalminds Its trending idiot.. Did you loo...\n",
              "1376    RT @AstoldByBass: #KimKardashiansNextBoyfriend...\n",
              "1377    RT @GatorNation41: gas was $1.92 when Obama to...\n",
              "1378    @xShwag haha i know im just so smart, i mean y...\n",
              "1379    #OBAMA:  DICTATOR IN TRAINING.  If he passes t...\n",
              "Name: tweets, Length: 1380, dtype: object"
            ]
          },
          "metadata": {
            "tags": []
          },
          "execution_count": 5
        }
      ]
    },
    {
      "cell_type": "code",
      "metadata": {
        "id": "uZ8g1lDV9NTP",
        "outputId": "fe2eacf2-be91-4c2c-d70c-ab56227e353a",
        "colab": {
          "base_uri": "https://localhost:8080/",
          "height": 34
        }
      },
      "source": [
        "data['tweets'].shape"
      ],
      "execution_count": 6,
      "outputs": [
        {
          "output_type": "execute_result",
          "data": {
            "text/plain": [
              "(1380,)"
            ]
          },
          "metadata": {
            "tags": []
          },
          "execution_count": 6
        }
      ]
    },
    {
      "cell_type": "code",
      "metadata": {
        "id": "lJDGXI7S-b_X",
        "outputId": "66478832-975c-4f7c-f71b-f37e45264d70",
        "colab": {
          "base_uri": "https://localhost:8080/",
          "height": 34
        }
      },
      "source": [
        "data.shape"
      ],
      "execution_count": 7,
      "outputs": [
        {
          "output_type": "execute_result",
          "data": {
            "text/plain": [
              "(1380, 2)"
            ]
          },
          "metadata": {
            "tags": []
          },
          "execution_count": 7
        }
      ]
    },
    {
      "cell_type": "code",
      "metadata": {
        "id": "HBTpr5JA-QFn"
      },
      "source": [
        "data = data.dropna()"
      ],
      "execution_count": 8,
      "outputs": []
    },
    {
      "cell_type": "code",
      "metadata": {
        "id": "sb0EGruZ-gr9",
        "outputId": "2c6e7f7a-0b6b-464a-ef3a-b833dc9dfe72",
        "colab": {
          "base_uri": "https://localhost:8080/",
          "height": 34
        }
      },
      "source": [
        "data.shape"
      ],
      "execution_count": 9,
      "outputs": [
        {
          "output_type": "execute_result",
          "data": {
            "text/plain": [
              "(1375, 2)"
            ]
          },
          "metadata": {
            "tags": []
          },
          "execution_count": 9
        }
      ]
    },
    {
      "cell_type": "markdown",
      "metadata": {
        "id": "6gk8veQrWK7J"
      },
      "source": [
        "## Process all tweets"
      ]
    },
    {
      "cell_type": "code",
      "metadata": {
        "id": "44jBcZrTV1QQ"
      },
      "source": [
        "processed=[]\n",
        "\n",
        "for tweet in data['tweets']:\n",
        "    #print(tweet)\n",
        "    #print(type(tweet))\n",
        "    # process all tweets using processTweet function above - store in variable 'cleaned' \n",
        "    cleaned=processTweet(tweet)\n",
        "    processed.append(' '.join(cleaned))"
      ],
      "execution_count": 10,
      "outputs": []
    },
    {
      "cell_type": "code",
      "metadata": {
        "id": "FQ_2PZV-WO_E"
      },
      "source": [
        "data['processed'] = processed"
      ],
      "execution_count": 11,
      "outputs": []
    },
    {
      "cell_type": "markdown",
      "metadata": {
        "id": "JabmRdNiWUhc"
      },
      "source": [
        "## Create pipeline and define parameters for GridSearch"
      ]
    },
    {
      "cell_type": "code",
      "metadata": {
        "id": "azZvCgLsWVaZ"
      },
      "source": [
        "text_clf = Pipeline([('vect', CountVectorizer()),\n",
        "                     ('tfidf', TfidfTransformer()),\n",
        "                     ('clf', MultinomialNB())])\n",
        "\n",
        "tuned_parameters = {\n",
        "    'vect__ngram_range': [(1, 1), (1, 2), (2, 2)],\n",
        "    'tfidf__use_idf': (True, False),\n",
        "    'tfidf__norm': ('l1', 'l2'),\n",
        "    'clf__alpha': [1, 1e-1, 1e-2]\n",
        "}"
      ],
      "execution_count": 12,
      "outputs": []
    },
    {
      "cell_type": "markdown",
      "metadata": {
        "id": "-0xeqceWWbz_"
      },
      "source": [
        "## Split data into test and train"
      ]
    },
    {
      "cell_type": "code",
      "metadata": {
        "id": "uznVuAUUWbPM"
      },
      "source": [
        "# split data into train and test with split as 0.2 \n",
        "X = data.processed\n",
        "y = data.labels\n",
        "\n",
        "train, test = train_test_split(data, test_size=0.2, random_state=1)\n",
        "x_train = train['processed'].values\n",
        "x_test = test['processed'].values\n",
        "y_train = train['labels']\n",
        "y_test = test['labels']"
      ],
      "execution_count": 13,
      "outputs": []
    },
    {
      "cell_type": "markdown",
      "metadata": {
        "id": "Y1ZgcaM8WfRB"
      },
      "source": [
        "## Perform classification (using GridSearch)"
      ]
    },
    {
      "cell_type": "code",
      "metadata": {
        "id": "AUwwb2IWWhmH",
        "outputId": "b2d92496-c9b8-4756-9670-99e3899afa9a",
        "colab": {
          "base_uri": "https://localhost:8080/",
          "height": 656
        }
      },
      "source": [
        "# perform GridSearch CV with 10 fold CV using pipeline and tuned_paramters defined above \n",
        "clf =GridSearchCV(text_clf,\n",
        "                  param_grid = tuned_parameters,\n",
        "                  cv = 10,                              \n",
        "                  verbose=1,\n",
        "                  n_jobs=-1)\n",
        "clf.fit(x_train, y_train)"
      ],
      "execution_count": 14,
      "outputs": [
        {
          "output_type": "stream",
          "text": [
            "Fitting 10 folds for each of 36 candidates, totalling 360 fits\n"
          ],
          "name": "stdout"
        },
        {
          "output_type": "stream",
          "text": [
            "[Parallel(n_jobs=-1)]: Using backend LokyBackend with 2 concurrent workers.\n",
            "[Parallel(n_jobs=-1)]: Done 104 tasks      | elapsed:    4.6s\n",
            "[Parallel(n_jobs=-1)]: Done 360 out of 360 | elapsed:   12.0s finished\n"
          ],
          "name": "stderr"
        },
        {
          "output_type": "execute_result",
          "data": {
            "text/plain": [
              "GridSearchCV(cv=10, error_score=nan,\n",
              "             estimator=Pipeline(memory=None,\n",
              "                                steps=[('vect',\n",
              "                                        CountVectorizer(analyzer='word',\n",
              "                                                        binary=False,\n",
              "                                                        decode_error='strict',\n",
              "                                                        dtype=<class 'numpy.int64'>,\n",
              "                                                        encoding='utf-8',\n",
              "                                                        input='content',\n",
              "                                                        lowercase=True,\n",
              "                                                        max_df=1.0,\n",
              "                                                        max_features=None,\n",
              "                                                        min_df=1,\n",
              "                                                        ngram_range=(1, 1),\n",
              "                                                        preprocessor=None,\n",
              "                                                        stop_words=None,\n",
              "                                                        strip_accents=None,\n",
              "                                                        token_pattern='(?u...\n",
              "                                                         sublinear_tf=False,\n",
              "                                                         use_idf=True)),\n",
              "                                       ('clf',\n",
              "                                        MultinomialNB(alpha=1.0,\n",
              "                                                      class_prior=None,\n",
              "                                                      fit_prior=True))],\n",
              "                                verbose=False),\n",
              "             iid='deprecated', n_jobs=-1,\n",
              "             param_grid={'clf__alpha': [1, 0.1, 0.01],\n",
              "                         'tfidf__norm': ('l1', 'l2'),\n",
              "                         'tfidf__use_idf': (True, False),\n",
              "                         'vect__ngram_range': [(1, 1), (1, 2), (2, 2)]},\n",
              "             pre_dispatch='2*n_jobs', refit=True, return_train_score=False,\n",
              "             scoring=None, verbose=1)"
            ]
          },
          "metadata": {
            "tags": []
          },
          "execution_count": 14
        }
      ]
    },
    {
      "cell_type": "code",
      "metadata": {
        "id": "8NOJ9oavIFMK",
        "outputId": "41a203e1-c2f4-497b-eb6c-1dd49b4618ef",
        "colab": {
          "base_uri": "https://localhost:8080/",
          "height": 52
        }
      },
      "source": [
        "print(clf.best_params_)\n",
        "print(clf.best_score_)"
      ],
      "execution_count": 15,
      "outputs": [
        {
          "output_type": "stream",
          "text": [
            "{'clf__alpha': 0.1, 'tfidf__norm': 'l2', 'tfidf__use_idf': True, 'vect__ngram_range': (1, 2)}\n",
            "0.8409090909090908\n"
          ],
          "name": "stdout"
        }
      ]
    },
    {
      "cell_type": "code",
      "metadata": {
        "id": "WjIa88WwM57i",
        "outputId": "89e29198-6434-473b-ad90-6d217ce00b11",
        "colab": {
          "base_uri": "https://localhost:8080/",
          "height": 1000
        }
      },
      "source": [
        "x_test"
      ],
      "execution_count": 16,
      "outputs": [
        {
          "output_type": "execute_result",
          "data": {
            "text/plain": [
              "array([\"n't obama run initial bill\",\n",
              "       \"truth obama budget trillions debt high gas price inflation weak dollar jobs ca n't run record\",\n",
              "       \"wonder 'd win footrace barack obama mitt romney ... stereotypes tell bam ... things n't reliable\",\n",
              "       \"rt whatsromneyhiding birth certificate nope 's obama\",\n",
              "       \"kimkardashiansnextboyfriend obama lol michelle ai n't goin 4 dat\",\n",
              "       \"rt american kid `` 're uk ohhh cool tea queen '' british kid `` like go mcdonalds obama\",\n",
              "       \"rt romney two harvard degrees blasts obama spending `` much time harvard '' icymi\",\n",
              "       'rt whatsromneyhiding person refuses let obama clear',\n",
              "       \"rt american kid `` 're uk ohhh cool tea queen '' british kid `` like go mcdonalds obama\",\n",
              "       'rt probably important thing world hope security theatre would diminish least slightly obama rule',\n",
              "       'rt latest ndaa lawsuit prettiest website',\n",
              "       'rt obama sign jobsact law designed make crowdfunding legal option startups',\n",
              "       \"rt mccaskill calls obama release day half supply oil spr via biden says oil policy `` best 's ever '' mosen\",\n",
              "       'obama concedes courts review acts congress federal appeals court demanded administra ...',\n",
              "       'rt 62 u.s. jews would reelect obama 4 say israel important issue haaretz',\n",
              "       \"rt apparently 's hiding barack obama 's copy constitution whatsromneyhiding\",\n",
              "       'liked video sexy know cover barack obama',\n",
              "       'rt whatsromneyhiding umm guarantee anything far less obama holder',\n",
              "       'whatsromneyhiding secret handshake obama really mad wants know handshake',\n",
              "       'look obama approve keystone pipeline right election tcot',\n",
              "       \"attorney general defends obama 's court critique .tcot\",\n",
              "       \"rt american kid `` 're uk ohhh cool tea queen '' british kid `` like go mcdonalds obama\",\n",
              "       \"obama `` thug '' `` bully '' 'm sure call rush limbaugh bill\",\n",
              "       'rt obama hands 3.5 billion libyan liquid assets hamas al-qaeda via libyan rebels citizensunited tlot',\n",
              "       'obama respects supreme court says eric holder violence syria continues anticipation ... libertario tlot',\n",
              "       'obama concedes courts review acts congress federal appeals court demanded administra ...',\n",
              "       \"rt american kid `` 're uk ohhh cool tea queen '' british kid `` like go mcdonalds obama\",\n",
              "       \"rt american kid `` 're uk ohhh cool tea queen '' british kid `` like go mcdonalds obama\",\n",
              "       'napolitano caught hiring muslim brotherhood terrorist giving top-secret security clearance',\n",
              "       'rt whatsromneyhiding connection supporters critical race theory ... oh wait obama romney ...',\n",
              "       'rt arianna huffington blasting president obama chance praising gop pic explains things',\n",
              "       \"obama 's hashtag -- conservatives turned game 's funny\",\n",
              "       \"obama 's tax returns 80s 90s whatsromneyhiding\",\n",
              "       \"respect supreme court power judicial review ... oh wait 's professor obama whatsromneyhiding tcot\",\n",
              "       \"rt american kid `` 're uk ohhh cool tea queen '' british kid `` like go mcdonalds obama\",\n",
              "       'rt taking constitutional law barack obama like taking auto shop barack obama ormathorscienceorhistoryorteleprompterrepair',\n",
              "       \"rt know obama use chicago style politics mitt romney thought 'd like meet real mitt romney honestmitt\",\n",
              "       \"mccaskill calls obama release day half supply oil spr via biden says oil policy `` best 's ever '' mosen\",\n",
              "       \"rt rush obama 'knows judicial review\",\n",
              "       'teen years obama known use marijuana cocaine',\n",
              "       'mr corn seen hbo documentary hot coffee.i feel upset need four years president obama 1000 certtain',\n",
              "       \"rt american kid `` 're uk ohhh cool tea queen '' british kid `` like go mcdonalds obama\",\n",
              "       \"american kid `` 're uk ohhh cool tea queen '' british kid `` like go mcdonalds obama\",\n",
              "       'rachel seen hbo documentary hot coffee.i feel upset need four years president obama 1000 certtain',\n",
              "       \"rt anyone else growing tired obama administration 's relentless class warfare tactics 're maddening un-american\",\n",
              "       \"rt obama campaign hosting women 's issue conference\",\n",
              "       \"rt rt ca n't wait romney goes obama ndaa oh wait\",\n",
              "       \"jefferson mlk jfk alive political experts say theyd vote 4 ronpaul rt obama white 'd mitt romney\",\n",
              "       'idk obama give muslim terrorists pass',\n",
              "       'obama drawsomething showing',\n",
              "       'obama ill prepared sh*t storm catholics shut hospitals universities',\n",
              "       'yea ill dm dont share tho rt hey u get obama pin thanks bro',\n",
              "       'sanctioning iran influence israel', 'tanner barack obama duh run',\n",
              "       'everyone hate obama', \"'s bored think wants waterboard someone\",\n",
              "       'rt omfg first caroline next michelle obama sophia hazz.. look staring ass ...',\n",
              "       'oust obama oust obama 2012 via',\n",
              "       \"'m scared hear anti obama songs uncle al government republicans office\",\n",
              "       \"whatsromneyhiding obama 's college transcripts\",\n",
              "       \"'m thinkin obama oversold justsayin == gt rt duh biden adviser green jobs oversold\",\n",
              "       'okay earth barack obama put blender twitter want',\n",
              "       \"yahoo trend mcconnell says lexington obama trying 'intimidate court teamfollowback goo\",\n",
              "       'obama respects supreme court says eric holder violence syria continues anticipation ... libertario tlot',\n",
              "       \"rt pissed hell rt obama white 'd mitt romney\",\n",
              "       \"campaign disabled credit card verification online donation site whatsromneyhiding ohwait 's obama\",\n",
              "       \"`` obama signaled us would accept iranian civilian nuclear program khamenei back claim iran pursue nukes ''\",\n",
              "       \"rt `` harry styles described michelle obama attractive older woman '' obama hide wife styles coming ''\",\n",
              "       'rt checking `` obama puts heat fox news prevent hannity airing `` constitutional emergency',\n",
              "       \"rt american kid `` 're uk ohhh cool tea queen '' british kid `` like go mcdonalds obama\",\n",
              "       \"rt obama 's college records whatsromneyhiding\",\n",
              "       'obama called gop budget social darwinism nice try believe social creationism',\n",
              "       'start argument obama disrespect religious freedom',\n",
              "       \"rt american kid `` 're uk ohhh cool tea queen '' british kid `` like go mcdonalds obama\",\n",
              "       'rt ignatius reports obama signaled iran us wld accept civ nuke pgm khameni assure iran never get nuke weapons',\n",
              "       'obama like worst president ever',\n",
              "       \"fuck cares obama presidents never directly effected really could n't care fucking less\",\n",
              "       'good party',\n",
              "       'rt rt unelected obama justice dept tryin 2 bully elected sheriff joe arpaio maricopa county violating ur rule mr obama',\n",
              "       'white house damage control obama supreme court remarks white house forced defensive w ...',\n",
              "       'obama hiding fake birth certificate ... vote ron paul ...',\n",
              "       \"rt obama 's excessive wh parties obsession algae prove really fungi tcot\",\n",
              "       \"scale 1-10 attractive ... n't say michelle obama\",\n",
              "       \"pres obama 's ongoing support women another reason proud president obama2012\",\n",
              "       \"rt pres obama sayd `` wait '' `` big important debate '' going issues\",\n",
              "       \"rt american kid `` 're uk ohhh cool tea queen '' british kid `` like go mcdonalds obama\",\n",
              "       'man something bad hotchoclateromney attacks obama spending much time harvard via',\n",
              "       \"rt think gop engaged `` war women '' obama meeting women 's worst enemy muslim bro tomorrow whitehouse\",\n",
              "       'rt teen years obama known use marijuana cocaine',\n",
              "       'rt think agreement rick santorum could beat obama ... bowling',\n",
              "       \"historically 2 term presidents horribly second term n't eager obama serve 2nd term..\",\n",
              "       'great obama presentation women',\n",
              "       'obama 2013 budget proposal bringing deficit turning around economy raising taxes ...',\n",
              "       \"bo 's college records rt obama campaign says romney make public 23 years tax cont\",\n",
              "       'obama legal precedents politics',\n",
              "       \"realclearpolitics video reporter carney obama `` made mistake ca n't admit ''\",\n",
              "       \"heard gay porn titled `` obama slobbin '' ... .now think obama killed pakistan..yeah crazy\",\n",
              "       'obama entrando en skateboard que si es real like boss',\n",
              "       'obama called gop budget social darwinism nice try believe social creationism',\n",
              "       'nancy pelosi obamacare barack obama supreme court daily caller via',\n",
              "       'hundreds millions dollars taxes obama donor warren buffett owes federal government whatsromneyhiding',\n",
              "       'hatch makes startling accusation obama ..shocking headline ... gt',\n",
              "       \"rt romney gon na nominee y'all first choice either allow 2nd obama term obama go\",\n",
              "       'rt ignatius reports obama signaled iran us wld accept civ nuke pgm khameni assure iran never get nuke weapons',\n",
              "       'rt kimkardashiansnextboyfriend obama',\n",
              "       'gun sale surge obama elected thinkaboutit',\n",
              "       \"rt american kid `` 're uk ohhh cool tea queen '' british kid `` like go mcdonalds obama\",\n",
              "       'rt campaign fundraiser tonight pres obama denounced mitt romney name support house-passed gop budget',\n",
              "       \"rt `` obama signs 'game-changing crowd-funding jobs act mashable mba jobs\",\n",
              "       \"time obama decide 2 move ass mullahs 'll nuke whole world still obama wants 2 shake hands\",\n",
              "       'rt president obama first time ordinary americans able invest companies believe crowdfunding',\n",
              "       'rt obama wants vets pay war injuries illegal immigrants get free medical care',\n",
              "       'rt nothing like team obama attacking romney unite conservatives thanks whatsromneyhiding',\n",
              "       \"first obama '' '' constitutional law professor `` '' tenured professor instructor thats\",\n",
              "       'rt watch live president obama signs jobs act making easier startups small businesses get financing',\n",
              "       \"rt obama white 'd mitt romney\",\n",
              "       'late night jokes obama unqualified trekkie',\n",
              "       'obey obama still satisfied lapdog press',\n",
              "       \"obama santorum judicial criticism common 's politics\",\n",
              "       \"obama 's skin color reason vote him..\",\n",
              "       \"bet obama n't think calculus promised change yeah bring change calculate change damn home ...\",\n",
              "       \"lafollette `` go newly elected president obama ask train back ''\",\n",
              "       'reforming obama supporter like trying pick poop clean end',\n",
              "       'miles away u.lol.. obama town',\n",
              "       \"rt righties call pres obama `` thug '' `` bully '' comments health care law hearings comment fb tweet share edshow\",\n",
              "       'kimkardashiansnextboyfriend barrack obama',\n",
              "       'obama best choice far 2012. push people vote lot check 2010 tweets dem machine needs replacement',\n",
              "       \"would look like president good goes narrative `` everything sucks obama fault one likes ''\",\n",
              "       'rt facts supporting assertion obama policies contributed high gas prices lets hear otherwise stfu',\n",
              "       'rt another obama buddy',\n",
              "       \"obama 's economic policy simple `` spending steroids '' economics101\",\n",
              "       \"obama offensive rt 's romney hiding tweet demand release tax returns whatsromneyhiding\",\n",
              "       'rt gop desperate frightened president obama suppressing votes several states cause loss',\n",
              "       \"whatisromneyhiding 's barack obama whatsobamahiding wants run anyone record\",\n",
              "       'really going take whatsromneyhiding obama whatsbarackhiding real question',\n",
              "       \"rt obama 's college records whatsromneyhiding\",\n",
              "       \"'back mcconnell warns obama crossed 'dangerous line -- times 247\",\n",
              "       \"`` saul says pres obama `` anything '' distract americans `` failed '' economic record .. '' saul alinsky said\",\n",
              "       \"pres obama worry something else i.e economy instead augusta 's membership policies..policy place way time\",\n",
              "       'funny obama saying romney release stuff mr birth certificate mr college records must think stupid',\n",
              "       'great photo llap trekkers rt barack obama vulcan',\n",
              "       'incompetent candidate 2012 obama vote noobama 2012',\n",
              "       \"rt obama 's college records whatsromneyhiding\",\n",
              "       'rt rt whatsromneyhiding person refuses let obama clear',\n",
              "       'obama needs feed',\n",
              "       'obama talk oil production boosted none prod bush policies actions boosted tcot p2 ocra sgp',\n",
              "       'breakin news holder obama administration respects supreme court usa today',\n",
              "       'lady live', 'heard diggin michelle obama get styles',\n",
              "       'ngakak bahhh.. obama nyanyi sexy know ama bornthisway ... akakakaka',\n",
              "       'president obama lindsay lohan rumors beginning 1987 analyst64 protected future time-line indicator scramble scam mode video',\n",
              "       \"rt pres obama sayd `` wait '' `` big important debate '' going issues\",\n",
              "       'da hora', \"rt whatsromneyhiding obama 's state senate records\",\n",
              "       \"rt american kid `` 're uk ohhh cool tea queen '' british kid `` like go mcdonalds obama\",\n",
              "       \"barack obama 's bbq 2011 via\",\n",
              "       'rt hope barack obama mitt romney get twitter fight',\n",
              "       'soon obama releases records',\n",
              "       '62 u.s. jews would reelect obama 4 say israel important issue haaretz',\n",
              "       'rt judicial watch 500,000 money send michelle africa via',\n",
              "       'rt president united states barack obama stands rights 99 party koch norquist',\n",
              "       'obama next ... ..lmao',\n",
              "       'barack obama triumph caesar novel ancient rome earbuds playaway adult fiction roman c ...',\n",
              "       'seen hbo documentary hot coffee.i feel upset need four years president obama 1000 certtain',\n",
              "       'napolitano caught hiring muslim brotherhood terrorist giving top-secret security clearance',\n",
              "       'teen years obama known use marijuana cocaine',\n",
              "       'nbc sucks ... nbc accuses federal judge bringing politics courtroom questioning obama media research center',\n",
              "       \"obama says 2012 `` fun debate '' president barack obama says 2012 election `` fun debate '' ove ...\",\n",
              "       'look barack obama chicken nugget ebay going believe allowed',\n",
              "       \"rt taliban wins 2 consecutive arrogant contemptuos potus 's gw obama strip freedoms away signature\",\n",
              "       \"rt american kid `` 're uk ohhh cool tea queen '' british kid `` like go mcdonalds obama\",\n",
              "       'hope uses list assign seats future dinner party want talk fave tmnt w/ obama oprah',\n",
              "       'rt need tag obama define nov battle obama failedleader incompetent wasteful divisive desperate flexible arrogant lazy',\n",
              "       \"rt romney two harvard degrees blasts obama spending `` much time harvard '' icymi\",\n",
              "       'obama',\n",
              "       \"american kid `` 're uk ohhh cool tea queen '' british kid `` like go mcdonalds obama ''\",\n",
              "       'right though enjoy self nigg gon wilding soon',\n",
              "       'obama billion dollar war chest reelection vetting might well monopoly resist44',\n",
              "       \"rt obama n't need favorite person 's still president united states america always deserves respect\",\n",
              "       'rt women augusta obama says absolutely romney hedges comment fb tweet share edshow',\n",
              "       \"rt whatsromneyhiding plan sell us missile defense russia election nope sorry 's obama\",\n",
              "       'fullerton summer internship white house get meet obama',\n",
              "       'president obama constitutional law scholar give credit respect deserves annoying',\n",
              "       'kal liked obama say political rally signed volunteer campaign',\n",
              "       'rt barack obama mitt romney budget battle ben white via',\n",
              "       'transparent obama since caught open mike russian president',\n",
              "       'rt whatsromneyhiding relationship vera baker damn might obama suck',\n",
              "       'campaign fundraiser tonight pres obama denounced mitt romney name support house-passed gop budget',\n",
              "       \"gop white whale obama ahab climbing harpoons dems complaining 's tail dancing making flipper noises yet\",\n",
              "       'despot better calling obama despot gives respectability sort due thug obama2012 gop',\n",
              "       'obama run record budgets voted 97-0 414-0 instead nonsense',\n",
              "       \"rt obama dc fundraiser `` 's going fun debate 's always good truth side '' 2012\",\n",
              "       'rt reforming obama supporter like trying pick poop clean end',\n",
              "       \"'s obama democrats win 2012 let 's start going back assorted polls questioning ...\",\n",
              "       \"obama propaganda department came hashtag regarding romney 's tax records\",\n",
              "       'time come anonymous revolution 2012 occupy ows obama ronpaul theanonmessage',\n",
              "       \"signed petition asking pres obama fulfill promise national alzheimer 's project act\",\n",
              "       \"american kid `` 're uk ohhh cool tea queen '' british kid `` like go mcdonalds obama\",\n",
              "       'large number gop women vote obama edshow',\n",
              "       'obama called gop budget social darwinism nice try believe social creationism',\n",
              "       'rt truth exposed obama administration wonder americans ...',\n",
              "       \"paul ryan 's budget obama 's budget getting educated facts first step losing liberalism\",\n",
              "       \"rt american kid `` 're uk ohhh cool tea queen '' british kid `` like go mcdonalds obama\",\n",
              "       'speaking constitution vote hussein obama tried found guilty treason country j ...',\n",
              "       'see hmm need good obama hash tag ...',\n",
              "       \"rt whatsromneyhiding plan push bad loans green energy see 'em go bankrupt ... oops 's obama\",\n",
              "       \"rt american kid `` 're uk ohhh cool tea queen '' british kid `` like go mcdonalds obama\",\n",
              "       'rt obama gives 1.5 billion egypt meeting muslim brotherhood unreal tcot',\n",
              "       \"npr topics politics-obama 's signing jobs act likely wo n't dim gop charge 's anti-jobs\",\n",
              "       \"rt romney two harvard degrees blasts obama spending `` much time harvard '' icymi\",\n",
              "       'like hiding obama much',\n",
              "       \"vote president barack obama let 's keep moving forward.AT_USER\",\n",
              "       \"rt ''harry styles describe michelle obama como una mujer muy atractiva '' obama esconde tu esposa tus hijos styles viene en camino\",\n",
              "       \"rt ouch obama prayer breakfast jesus `` son god '' cns\",\n",
              "       'dont really believe obama socialist way inferred believes all..',\n",
              "       'part obama lite would vote pee wee herman obama lama ding dong',\n",
              "       \"whatsromneyhiding michelle obama 's divorce attorney speed dial\",\n",
              "       \"despite rising gas prices energy policy experts charles ebinger susan tierney say ca n't blame obama thetavissmileyshow week\",\n",
              "       \"rt ignatius `` u.s. officials hope putin broker syria deal meets obama g-8 summit next month ''\",\n",
              "       \"lol okay 'm calm technically 4 black directioners cause michelle obama one wow\",\n",
              "       'rt presidential candidate touch obama romney',\n",
              "       \"rt american kid `` 're uk ohhh cool tea queen '' british kid `` like go mcdonalds obama\",\n",
              "       \"rt obama 's habit blaming others country 's problems adds perception weak leader\",\n",
              "       'rt ignatius reports obama signaled iran us wld accept civ nuke pgm khameni assure iran never get nuke weapons',\n",
              "       'im obama tracknation',\n",
              "       \"rt campaign disabled credit card verification online donation site whatsromneyhiding ohwait 's obama\",\n",
              "       'rt campaign fundraiser tonight pres obama denounced mitt romney name support house-passed gop budget',\n",
              "       \"truly o'reilly 's milquetoast interview w/that obama kisser socialist also race baiter marc lamont hill sickening\",\n",
              "       \"rt pres obama says 'll big debate fun debate says truth side\",\n",
              "       'rt rt whatsromneyhiding person refuses let obama clear',\n",
              "       'whatsromneyhiding lot money oh wait anyone brain already knew dumbest hashtag ever obama money fyi',\n",
              "       'rt ignatius reports obama signaled iran us wld accept civ nuke pgm khameni assure iran never get nuke weapons',\n",
              "       '',\n",
              "       'barack obama trying start stuff future president respect mitt romney',\n",
              "       \"kimkardashiansnextboyfriend ... barack obama ... 's leader free world 's booty white world ...\",\n",
              "       'rt obama campaign seizing washington post report mitt romney disclosing certain details income assets',\n",
              "       'rt reforming obama supporter like trying pick poop clean end',\n",
              "       \"rt ignatius `` u.s. officials hope putin broker syria deal meets obama g-8 summit next month ''\",\n",
              "       \"rt obama .AT_USER wo n't get 345 ships called qdr 313 min necessary 4 missions less 300 ships\",\n",
              "       'muito bom ahuahahuhahauhuahuahhauha',\n",
              "       \"rt american kid `` 're uk ohhh cool tea queen '' british kid `` like go mcdonalds obama\",\n",
              "       'nbc accuses federal judge bringing politics courtroom questioning obama media research center',\n",
              "       \"rt whatsromneyhiding fact real unemployment 19 ... oh wait 's obama romney ...\",\n",
              "       'getchaobamaon retweet obama',\n",
              "       'rt obama like worst president ever',\n",
              "       'romney right obama stop lying 4 million new jobs created killing american citizens hc fraud gop dem p2',\n",
              "       \"rt obama n't need favorite person 's still president united states america always deserves respect\",\n",
              "       'rt obama go history president 200 years unable get single budget passed fail',\n",
              "       \"rt pres obama 's ongoing support women another reason proud president obama2012\",\n",
              "       \"rt whatsromneyhiding college records ... oh wait 's obama\",\n",
              "       \"0ne n't get awestruck much would amazing places tpie whitehouse mmm\",\n",
              "       'rt rt everything obama detrimental country honestly believe ...',\n",
              "       \"rt right course 's always someone else 's fault comes obama 95 good odds\",\n",
              "       'hiding money lying cheating baby killing obama',\n",
              "       'marine faces dismissal criticizing obama facebook barbara e. hernandez marine facing discharge afte ...',\n",
              "       'rt obama campaign seizing washington post report mitt romney disclosing certain details income assets',\n",
              "       'white house wants participate state union address sotu obama',\n",
              "       'kimkardashiansnextboyfriend obama',\n",
              "       'whatsromneyhiding fact student critical race theory obama ... ..',\n",
              "       'actual barack obama campaign particular impact future elections sarah palin seeking ...',\n",
              "       \"rt `` obama signaled us would accept iranian civilian nuclear program khamenei back claim iran pursue nukes ''\",\n",
              "       'rt unreal obama regime release 1.5 billion aid egypt meeting muslim brotherhood becktips tcot',\n",
              "       'rt anyone else notice obama runs flaps subject disappears cronies take wimp',\n",
              "       \"rt whatsromneyhiding plan push bad loans green energy see 'em go bankrupt ... oops 's obama\",\n",
              "       \"rt obama 's osawatomie speech `` united states america never worked '' tcot debt citizensunited teaparty\",\n",
              "       'shell sued massive oil spills nigeria president obama savethearctic shell',\n",
              "       \"rt `` obama signaled us would accept iranian civilian nuclear program khamenei back claim iran pursue nukes ''\",\n",
              "       \"rt obama said let 's term-limit supreme court justices\",\n",
              "       'looks like barack obama twitcon lol vute though lt 3',\n",
              "       'rt oh get obama talking shorthand dumb understand smart really gagme',\n",
              "       \"rt n't even believe good humanity anymore\",\n",
              "       \"rt anyone else growing tired obama administration 's relentless class warfare tactics 're maddening un-american\",\n",
              "       'obama called gop budget social darwinism nice try believe social creationism',\n",
              "       '',\n",
              "       'president obama signs jumpstart business startups jobs act attempt ease access capital ...'],\n",
              "      dtype=object)"
            ]
          },
          "metadata": {
            "tags": []
          },
          "execution_count": 16
        }
      ]
    },
    {
      "cell_type": "code",
      "metadata": {
        "id": "Xrn4mlWnLA6g",
        "outputId": "63fec5fd-cd75-4d2e-bd29-bdad20f1f080",
        "colab": {
          "base_uri": "https://localhost:8080/",
          "height": 247
        }
      },
      "source": [
        "y_pred = clf.predict(x_test)\n",
        "y_pred"
      ],
      "execution_count": 17,
      "outputs": [
        {
          "output_type": "execute_result",
          "data": {
            "text/plain": [
              "array([0, 0, 1, 0, 0, 0, 0, 0, 0, 1, 0, 0, 0, 0, 1, 0, 1, 0, 0, 0, 0, 0,\n",
              "       0, 0, 1, 0, 0, 0, 1, 0, 1, 0, 0, 0, 0, 0, 1, 0, 0, 0, 0, 0, 0, 0,\n",
              "       0, 1, 0, 1, 1, 0, 0, 0, 1, 0, 0, 0, 0, 1, 0, 0, 0, 0, 0, 1, 1, 0,\n",
              "       1, 1, 0, 0, 0, 1, 0, 0, 1, 0, 0, 0, 0, 1, 0, 0, 1, 2, 1, 0, 0, 0,\n",
              "       0, 1, 0, 1, 0, 1, 0, 1, 0, 1, 1, 1, 0, 0, 0, 1, 0, 0, 0, 1, 0, 0,\n",
              "       0, 0, 0, 0, 1, 1, 0, 0, 0, 1, 0, 0, 1, 0, 0, 0, 0, 0, 2, 0, 0, 0,\n",
              "       0, 0, 0, 0, 0, 1, 0, 0, 1, 0, 0, 0, 0, 0, 1, 0, 0, 1, 0, 1, 0, 0,\n",
              "       0, 0, 1, 0, 1, 0, 1, 0, 0, 0, 1, 0, 0, 1, 0, 0, 0, 0, 0, 0, 0, 0,\n",
              "       0, 1, 1, 0, 0, 1, 0, 1, 0, 0, 0, 1, 0, 0, 0, 1, 1, 0, 0, 0, 0, 0,\n",
              "       0, 1, 0, 0, 0, 0, 0, 0, 0, 0, 0, 0, 0, 1, 0, 0, 0, 0, 0, 0, 2, 0,\n",
              "       0, 0, 0, 1, 1, 0, 1, 0, 1, 0, 0, 1, 0, 0, 0, 0, 1, 2, 1, 0, 0, 0,\n",
              "       1, 0, 0, 0, 1, 0, 2, 0, 0, 0, 1, 0, 0, 0, 1, 0, 0, 0, 1, 0, 0, 0,\n",
              "       0, 0, 1, 0, 0, 1, 2, 0, 1, 0, 1])"
            ]
          },
          "metadata": {
            "tags": []
          },
          "execution_count": 17
        }
      ]
    },
    {
      "cell_type": "markdown",
      "metadata": {
        "id": "CE_mfhiUWyc8"
      },
      "source": [
        "## Classification report "
      ]
    },
    {
      "cell_type": "code",
      "metadata": {
        "id": "rqvkzGFRWzIb",
        "outputId": "42a5da70-1b5e-4281-d048-394f263b3e77",
        "colab": {
          "base_uri": "https://localhost:8080/",
          "height": 194
        }
      },
      "source": [
        "cm = classification_report(y_test,y_pred)\n",
        "print(cm)"
      ],
      "execution_count": 18,
      "outputs": [
        {
          "output_type": "stream",
          "text": [
            "              precision    recall  f1-score   support\n",
            "\n",
            "           0       0.86      0.94      0.90       182\n",
            "           1       0.81      0.73      0.77        78\n",
            "           2       0.83      0.33      0.48        15\n",
            "\n",
            "    accuracy                           0.85       275\n",
            "   macro avg       0.84      0.67      0.71       275\n",
            "weighted avg       0.85      0.85      0.84       275\n",
            "\n"
          ],
          "name": "stdout"
        }
      ]
    },
    {
      "cell_type": "markdown",
      "metadata": {
        "id": "shTpptLeW1SF"
      },
      "source": [
        "## Important:"
      ]
    },
    {
      "cell_type": "code",
      "metadata": {
        "id": "OdWycpFYW3iD",
        "outputId": "938c76de-2ed3-4522-ada5-4a79ba559329",
        "colab": {
          "base_uri": "https://localhost:8080/",
          "height": 87
        }
      },
      "source": [
        "counts = data.labels.value_counts()\n",
        "print(counts)"
      ],
      "execution_count": 19,
      "outputs": [
        {
          "output_type": "stream",
          "text": [
            "0    942\n",
            "1    352\n",
            "2     81\n",
            "Name: labels, dtype: int64\n"
          ],
          "name": "stdout"
        }
      ]
    },
    {
      "cell_type": "markdown",
      "metadata": {
        "id": "6l3PcKXfW9LE"
      },
      "source": [
        "We can see above that the class distribution is highly imbalanced, this would not lead to good sampling of the data for the classifier. For your learning, try using [SMOTE](https://imbalanced-learn.readthedocs.io/en/stable/api.html) to oversample the minority classes and then evaluate the performance with Naive Bayes and compare."
      ]
    }
  ]
}